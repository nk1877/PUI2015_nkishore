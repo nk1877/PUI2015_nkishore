{
 "cells": [
  {
   "cell_type": "markdown",
   "metadata": {
    "collapsed": true
   },
   "source": [
    "# Assignment 2"
   ]
  },
  {
   "cell_type": "code",
   "execution_count": 3,
   "metadata": {
    "collapsed": true
   },
   "outputs": [],
   "source": [
    "import os\n",
    "import sys\n",
    "import numpy as np\n",
    "import pylab as pl\n",
    "import json\n",
    "import os"
   ]
  },
  {
   "cell_type": "markdown",
   "metadata": {},
   "source": [
    "P_0 = 0.521 and P_1 is 0.533\n"
   ]
  },
  {
   "cell_type": "code",
   "execution_count": 4,
   "metadata": {
    "collapsed": true
   },
   "outputs": [],
   "source": [
    "alpha=0.05\n",
    "P_0=52.1*0.01\n",
    "P_1=53.3*0.01 \n",
    "n_0=409\n",
    "n_1=564\n",
    "\n",
    "Nt_0=P_0*n_0\n",
    "Nt_1=P_1*n_1"
   ]
  },
  {
   "cell_type": "code",
   "execution_count": 5,
   "metadata": {
    "collapsed": false
   },
   "outputs": [
    {
     "name": "stdout",
     "output_type": "stream",
     "text": [
      "0.527955806783\n"
     ]
    }
   ],
   "source": [
    "sp=(P_0*n_0+P_1*n_1)/(n_1+n_0)\n",
    "print sp"
   ]
  },
  {
   "cell_type": "code",
   "execution_count": 6,
   "metadata": {
    "collapsed": false
   },
   "outputs": [
    {
     "name": "stdout",
     "output_type": "stream",
     "text": [
      "0.521 409 564 0.0324224126866\n"
     ]
    }
   ],
   "source": [
    "sp_stdev= lambda p, n: np.sqrt( p * ( 1 - p ) /n[0] +  p * ( 1 - p )/n[1]  )\n",
    "\n",
    "\n",
    "sp_stdev_2y=sp_stdev((Nt_0+Nt_1)/(n_0+n_1),[n_0,n_1])\n",
    "print P_0, n_0, n_1, sp_stdev_2y"
   ]
  },
  {
   "cell_type": "code",
   "execution_count": 7,
   "metadata": {
    "collapsed": false
   },
   "outputs": [
    {
     "name": "stdout",
     "output_type": "stream",
     "text": [
      "0.370114343926\n"
     ]
    }
   ],
   "source": [
    "zscore = lambda p0, p1, s : (p0-p1)/s\n",
    "z_2y = zscore(P_1, P_0, sp_stdev_2y)\n",
    "print z_2y"
   ]
  },
  {
   "cell_type": "code",
   "execution_count": 8,
   "metadata": {
    "collapsed": false
   },
   "outputs": [
    {
     "name": "stdout",
     "output_type": "stream",
     "text": [
      "is the p value 0.36 smaller than the critical value 0.50? \n",
      "YES!\n",
      "the Null hypothesis is rejected\n"
     ]
    }
   ],
   "source": [
    "p_2y= 1-0.6368\n",
    "alpha = 0.5\n",
    "def report_result(p,a):\n",
    "    print 'is the p value {0:.2f} smaller than the critical value {1:.2f}? '.format(p,a)\n",
    "    if p<a:\n",
    "        print \"YES!\"\n",
    "    else: print \"NO!\"\n",
    "    \n",
    "    print 'the Null hypothesis is {}'.format( 'rejected' if p<a  else 'not rejected') \n",
    "\n",
    "    \n",
    "report_result(p_2y,alpha)"
   ]
  },
  {
   "cell_type": "code",
   "execution_count": 9,
   "metadata": {
    "collapsed": false,
    "scrolled": true
   },
   "outputs": [
    {
     "name": "stdout",
     "output_type": "stream",
     "text": [
      "1.58939333193\n"
     ]
    }
   ],
   "source": [
    "Ntot = 973\n",
    "expected = 564*409*131.579*841.421\n",
    "sample_values = [[14.7*5.64,85.3*5.64],[11.9*4.09,88.1*4.09]]\n",
    " \n",
    "chisqstat= lambda N, values, expect : N*((values[0][0]*values[1][1]-values[0][1]*values[1][0])**2)/(expect)\n",
    "\n",
    "print chisqstat(Ntot,  sample_values, expected)"
   ]
  },
  {
   "cell_type": "markdown",
   "metadata": {},
   "source": [
    "1.589 lies in range greater than 10 percent therefore we reject the null hypothisis."
   ]
  }
 ],
 "metadata": {
  "kernelspec": {
   "display_name": "Python 2",
   "language": "python",
   "name": "python2"
  },
  "language_info": {
   "codemirror_mode": {
    "name": "ipython",
    "version": 2
   },
   "file_extension": ".py",
   "mimetype": "text/x-python",
   "name": "python",
   "nbconvert_exporter": "python",
   "pygments_lexer": "ipython2",
   "version": "2.7.10"
  }
 },
 "nbformat": 4,
 "nbformat_minor": 0
}
