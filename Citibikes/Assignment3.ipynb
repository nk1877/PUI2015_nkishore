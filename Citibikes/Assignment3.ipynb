{
 "cells": [
  {
   "cell_type": "code",
   "execution_count": 67,
   "metadata": {
    "collapsed": false
   },
   "outputs": [
    {
     "name": "stdout",
     "output_type": "stream",
     "text": [
      "Populating the interactive namespace from numpy and matplotlib\n"
     ]
    }
   ],
   "source": [
    "import pylab as pl\n",
    "import pandas as pd\n",
    "import numpy as np\n",
    "%pylab inline\n",
    "\n",
    "import os\n",
    "\n",
    "\n",
    "import json\n",
    "\n",
    "import scipy.stats"
   ]
  },
  {
   "cell_type": "code",
   "execution_count": 68,
   "metadata": {
    "collapsed": false
   },
   "outputs": [
    {
     "name": "stdout",
     "output_type": "stream",
     "text": [
      "Index([u'tripduration', u'starttime', u'stoptime', u'start station id',\n",
      "       u'start station name', u'start station latitude',\n",
      "       u'start station longitude', u'end station id', u'end station name',\n",
      "       u'end station latitude', u'end station longitude', u'bikeid',\n",
      "       u'usertype', u'birth year', u'gender'],\n",
      "      dtype='object')\n"
     ]
    }
   ],
   "source": [
    "df_W=pd.read_csv('/Users/nikhilkishore/Dropbox/nyuclasses/PUI/201501-citibike-tripdata.csv')\n",
    "print df_W.columns\n",
    "df_S=pd.read_csv('/Users/nikhilkishore/Dropbox/nyuclasses/PUI/201509-citibike-tripdata.csv')"
   ]
  },
  {
   "cell_type": "code",
   "execution_count": 69,
   "metadata": {
    "collapsed": true
   },
   "outputs": [],
   "source": [
    "df_W['age'] = 2015-df_W['birth year'][(df_W['usertype'] == 'Subscriber')]\n",
    "df_S['age'] = 2015-df_S['birth year'][(df_S['usertype'] == 'Subscriber')]"
   ]
  },
  {
   "cell_type": "code",
   "execution_count": 70,
   "metadata": {
    "collapsed": false
   },
   "outputs": [
    {
     "data": {
      "image/png": "[encoded data removed]",
      "text/plain": [
       "<matplotlib.figure.Figure at 0x105030c10>"
      ]
     },
     "metadata": {},
     "output_type": "display_data"
    },
    {
     "data": {
      "image/png": "[encoded data removed]",
      "text/plain": [
       "<matplotlib.figure.Figure at 0x105e386d0>"
      ]
     },
     "metadata": {},
     "output_type": "display_data"
    }
   ],
   "source": [
    "bins = np.arange(10, 99, 10)\n",
    "df_W.age.groupby(pd.cut(df_W.age, bins)).agg([count_nonzero]).plot(kind='bar', title=\"Winter\")\n",
    "W_age_dist = df_W.age.groupby(pd.cut(df_W.age, bins)).agg([count_nonzero])\n",
    "df_S.age.groupby(pd.cut(df_S.age, bins)).agg([count_nonzero]).plot(kind='bar', title=\"Summer\")\n",
    "S_age_dist = df_S.age.groupby(pd.cut(df_S.age, bins)).agg([count_nonzero])"
   ]
  },
  {
   "cell_type": "code",
   "execution_count": 71,
   "metadata": {
    "collapsed": false
   },
   "outputs": [
    {
     "name": "stdout",
     "output_type": "stream",
     "text": [
      "winter, normal fit (1.0, 0.0)\n",
      "summer, normal fit (1.0, 0.0)\n",
      "winter, normal fit (0.99999637418970078, 0.0)\n",
      "summer, normal fit (0.99999905995408844, 0.0)\n"
     ]
    }
   ],
   "source": [
    "ksW=scipy.stats.kstest(W_age_dist, 'norm')\n",
    "ksS=scipy.stats.kstest(S_age_dist, 'norm')\n",
    "print \"winter, normal fit\", ksW\n",
    "print \"summer, normal fit\", ksS\n",
    "\n",
    "#compare to poisson \n",
    "\n",
    "ksW=scipy.stats.kstest(W_age_dist, 'cauchy')\n",
    "ksS=scipy.stats.kstest(S_age_dist, 'cauchy')\n",
    "print \"winter, normal fit\", ksW\n",
    "print \"summer, normal fit\", ksS"
   ]
  },
  {
   "cell_type": "code",
   "execution_count": 72,
   "metadata": {
    "collapsed": false
   },
   "outputs": [
    {
     "name": "stdout",
     "output_type": "stream",
     "text": [
      "winter, normal fit (1.0, 0.0)\n",
      "summer, normal fit (1.0, 0.0)\n"
     ]
    }
   ],
   "source": [
    "ksW=scipy.stats.kstest(W_age_dist, 'gamma', args=(35,))\n",
    "ksS=scipy.stats.kstest(S_age_dist, 'gamma', args=(35,))\n",
    "\n",
    "print \"winter, normal fit\", ksW\n",
    "print \"summer, normal fit\", ksS"
   ]
  },
  {
   "cell_type": "code",
   "execution_count": 73,
   "metadata": {
    "collapsed": true
   },
   "outputs": [],
   "source": [
    "def mydistribution(size, m0, m1):\n",
    "    #this is a crazy dumb function, but i am trying to make a point here...\n",
    "    return (np.empty_like(size)+1) * m0 **2"
   ]
  },
  {
   "cell_type": "code",
   "execution_count": 74,
   "metadata": {
    "collapsed": false
   },
   "outputs": [
    {
     "name": "stdout",
     "output_type": "stream",
     "text": [
      "winter, normal fit (414799700.0, nan)\n",
      "summer, normal fit (107543975.0, nan)\n"
     ]
    }
   ],
   "source": [
    "ksW=scipy.stats.kstest(W_age_dist, mydistribution, args=(35,38))\n",
    "ksS=scipy.stats.kstest(S_age_dist, mydistribution, args=(35,38))\n",
    "\n",
    "print \"winter, normal fit\", ksW\n",
    "print \"summer, normal fit\", ksS"
   ]
  },
  {
   "cell_type": "markdown",
   "metadata": {},
   "source": [
    "##AD Test"
   ]
  },
  {
   "cell_type": "code",
   "execution_count": 88,
   "metadata": {
    "collapsed": false
   },
   "outputs": [],
   "source": [
    "ageW = np.array([a for a in df_W.age if not np.isnan(a)])\n",
    "ageS = np.array([b for b in df_S.age if not np.isnan(b)])\n",
    "\n",
    " "
   ]
  },
  {
   "cell_type": "code",
   "execution_count": 89,
   "metadata": {
    "collapsed": false
   },
   "outputs": [],
   "source": [
    "cW=ageW.cumsum()\n",
    "cS=ageS.cumsum()"
   ]
  },
  {
   "cell_type": "code",
   "execution_count": 90,
   "metadata": {
    "collapsed": false
   },
   "outputs": [
    {
     "name": "stdout",
     "output_type": "stream",
     "text": [
      "winter, normal fit 3146.28939143\n",
      "summer, normal fit 12069.0075135\n"
     ]
    }
   ],
   "source": [
    "AdW=scipy.stats.anderson(cW, 'norm')\n",
    "AdS=scipy.stats.anderson(cS, 'norm')\n",
    "print \"winter, normal fit\", AdW[0]\n",
    "print \"summer, normal fit\", AdS[0]"
   ]
  },
  {
   "cell_type": "markdown",
   "metadata": {},
   "source": [
    "##Entropy"
   ]
  },
  {
   "cell_type": "code",
   "execution_count": 96,
   "metadata": {
    "collapsed": false
   },
   "outputs": [
    {
     "name": "stdout",
     "output_type": "stream",
     "text": [
      "winter, normal fit [ 1.51282656]\n",
      "summer, normal fit [ 1.54560887]\n"
     ]
    }
   ],
   "source": [
    "EnW = scipy.stats.entropy(W_age_dist, qk=None, base=None)\n",
    "EnS = scipy.stats.entropy(S_age_dist, qk=None, base=None)\n",
    "print \"winter, normal fit\", EnS\n",
    "print \"summer, normal fit\", EnW\n",
    "#print W_age_dist\n",
    "#AD=scipy.stats.anderson(W_age_dist, 'norm')"
   ]
  },
  {
   "cell_type": "code",
   "execution_count": null,
   "metadata": {
    "collapsed": true
   },
   "outputs": [],
   "source": []
  }
 ],
 "metadata": {
  "kernelspec": {
   "display_name": "Python 2",
   "language": "python",
   "name": "python2"
  },
  "language_info": {
   "codemirror_mode": {
    "name": "ipython",
    "version": 2
   },
   "file_extension": ".py",
   "mimetype": "text/x-python",
   "name": "python",
   "nbconvert_exporter": "python",
   "pygments_lexer": "ipython2",
   "version": "2.7.10"
  }
 },
 "nbformat": 4,
 "nbformat_minor": 0
}
